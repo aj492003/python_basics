{
 "cells": [
  {
   "cell_type": "code",
   "execution_count": 1,
   "id": "78727db3-0223-4535-a8a4-5253f1d1a624",
   "metadata": {},
   "outputs": [
    {
     "data": {
      "text/plain": [
       "2"
      ]
     },
     "execution_count": 1,
     "metadata": {},
     "output_type": "execute_result"
    }
   ],
   "source": [
    "1+1"
   ]
  },
  {
   "cell_type": "code",
   "execution_count": 2,
   "id": "4d9111ae-e370-4c1b-b83a-c539f1fa8f3e",
   "metadata": {},
   "outputs": [
    {
     "data": {
      "text/plain": [
       "25"
      ]
     },
     "execution_count": 2,
     "metadata": {},
     "output_type": "execute_result"
    }
   ],
   "source": [
    "5*5"
   ]
  },
  {
   "cell_type": "code",
   "execution_count": 3,
   "id": "4e9e9504-461e-4c34-a3da-97014fea0765",
   "metadata": {},
   "outputs": [
    {
     "data": {
      "text/plain": [
       "12"
      ]
     },
     "execution_count": 3,
     "metadata": {},
     "output_type": "execute_result"
    }
   ],
   "source": [
    "9+3"
   ]
  },
  {
   "cell_type": "code",
   "execution_count": 4,
   "id": "71408e74-509a-4009-84ac-0e25e9e70c85",
   "metadata": {},
   "outputs": [],
   "source": [
    "a = 10"
   ]
  },
  {
   "cell_type": "code",
   "execution_count": 5,
   "id": "eea430fb-5d99-46a0-899f-424ef434ac92",
   "metadata": {},
   "outputs": [
    {
     "data": {
      "text/plain": [
       "10"
      ]
     },
     "execution_count": 5,
     "metadata": {},
     "output_type": "execute_result"
    }
   ],
   "source": [
    "a"
   ]
  },
  {
   "cell_type": "code",
   "execution_count": 6,
   "id": "6fc829d8-c030-44ee-86c9-88f188073fd0",
   "metadata": {},
   "outputs": [
    {
     "data": {
      "text/plain": [
       "32"
      ]
     },
     "execution_count": 6,
     "metadata": {},
     "output_type": "execute_result"
    }
   ],
   "source": [
    "a+22"
   ]
  },
  {
   "cell_type": "code",
   "execution_count": 7,
   "id": "26fcd0e7-b9cd-4233-800c-d7119249afcb",
   "metadata": {},
   "outputs": [
    {
     "data": {
      "text/plain": [
       "int"
      ]
     },
     "execution_count": 7,
     "metadata": {},
     "output_type": "execute_result"
    }
   ],
   "source": [
    "type(a)"
   ]
  },
  {
   "cell_type": "code",
   "execution_count": 8,
   "id": "c6b7e256-4772-4458-af88-e0dc79f1bccf",
   "metadata": {},
   "outputs": [],
   "source": [
    "b = 2.00"
   ]
  },
  {
   "cell_type": "code",
   "execution_count": 9,
   "id": "900fed31-61eb-4920-aa16-aba5801e4af6",
   "metadata": {},
   "outputs": [
    {
     "data": {
      "text/plain": [
       "float"
      ]
     },
     "execution_count": 9,
     "metadata": {},
     "output_type": "execute_result"
    }
   ],
   "source": [
    "type(b)"
   ]
  },
  {
   "cell_type": "code",
   "execution_count": 10,
   "id": "de311bcb-2677-4515-b776-ba7fc8a65c48",
   "metadata": {},
   "outputs": [],
   "source": [
    "c = 99.99"
   ]
  },
  {
   "cell_type": "code",
   "execution_count": 11,
   "id": "c64d370f-828a-43e8-99ec-efd91c82cd7d",
   "metadata": {},
   "outputs": [
    {
     "data": {
      "text/plain": [
       "float"
      ]
     },
     "execution_count": 11,
     "metadata": {},
     "output_type": "execute_result"
    }
   ],
   "source": [
    "type(c)"
   ]
  },
  {
   "cell_type": "code",
   "execution_count": 12,
   "id": "afe47c98-84f4-4a89-93af-ceaf5e4a85c9",
   "metadata": {},
   "outputs": [],
   "source": [
    "d  = \"ankur\""
   ]
  },
  {
   "cell_type": "code",
   "execution_count": 13,
   "id": "1785a998-a30c-4c0e-a4cc-b58c1162b39c",
   "metadata": {},
   "outputs": [
    {
     "data": {
      "text/plain": [
       "str"
      ]
     },
     "execution_count": 13,
     "metadata": {},
     "output_type": "execute_result"
    }
   ],
   "source": [
    "type(d)"
   ]
  },
  {
   "cell_type": "code",
   "execution_count": 14,
   "id": "af1a3e39-5556-4edd-9df4-1eef11f038c9",
   "metadata": {},
   "outputs": [],
   "source": [
    "e = \" python basic\""
   ]
  },
  {
   "cell_type": "code",
   "execution_count": 15,
   "id": "b8f60a65-1a26-4297-bd6d-31d270b7fff7",
   "metadata": {},
   "outputs": [
    {
     "data": {
      "text/plain": [
       "str"
      ]
     },
     "execution_count": 15,
     "metadata": {},
     "output_type": "execute_result"
    }
   ],
   "source": [
    "type(e)"
   ]
  },
  {
   "cell_type": "code",
   "execution_count": 16,
   "id": "6cd59434-5e98-4715-80b4-d699da0a7a9a",
   "metadata": {},
   "outputs": [
    {
     "ename": "NameError",
     "evalue": "name 'true' is not defined",
     "output_type": "error",
     "traceback": [
      "\u001b[0;31m---------------------------------------------------------------------------\u001b[0m",
      "\u001b[0;31mNameError\u001b[0m                                 Traceback (most recent call last)",
      "Cell \u001b[0;32mIn[16], line 1\u001b[0m\n\u001b[0;32m----> 1\u001b[0m n \u001b[38;5;241m=\u001b[39m \u001b[43mtrue\u001b[49m\n",
      "\u001b[0;31mNameError\u001b[0m: name 'true' is not defined"
     ]
    }
   ],
   "source": [
    "n = true"
   ]
  },
  {
   "cell_type": "code",
   "execution_count": 17,
   "id": "d970bd4a-72c4-4884-94bf-ba7a36860f00",
   "metadata": {},
   "outputs": [],
   "source": [
    "n = True"
   ]
  },
  {
   "cell_type": "code",
   "execution_count": 18,
   "id": "0fa371c7-9ecd-4cdb-9559-2cbd010c4fae",
   "metadata": {},
   "outputs": [
    {
     "data": {
      "text/plain": [
       "bool"
      ]
     },
     "execution_count": 18,
     "metadata": {},
     "output_type": "execute_result"
    }
   ],
   "source": [
    "type(n)"
   ]
  },
  {
   "cell_type": "code",
   "execution_count": 19,
   "id": "3d9056fb-aeac-4a57-9e08-3fff93280363",
   "metadata": {},
   "outputs": [],
   "source": [
    "m = False"
   ]
  },
  {
   "cell_type": "code",
   "execution_count": 20,
   "id": "dca1e154-7954-4502-a4ce-04c4c872b1b5",
   "metadata": {},
   "outputs": [
    {
     "data": {
      "text/plain": [
       "bool"
      ]
     },
     "execution_count": 20,
     "metadata": {},
     "output_type": "execute_result"
    }
   ],
   "source": [
    "type(m)"
   ]
  },
  {
   "cell_type": "code",
   "execution_count": 21,
   "id": "98c330a7-969e-44aa-ba50-5fd3e9405054",
   "metadata": {},
   "outputs": [
    {
     "data": {
      "text/plain": [
       "1"
      ]
     },
     "execution_count": 21,
     "metadata": {},
     "output_type": "execute_result"
    }
   ],
   "source": [
    "n+m"
   ]
  },
  {
   "cell_type": "code",
   "execution_count": 22,
   "id": "0f6bad82-dc3b-4c67-96dd-19fe018336bb",
   "metadata": {},
   "outputs": [
    {
     "data": {
      "text/plain": [
       "1"
      ]
     },
     "execution_count": 22,
     "metadata": {},
     "output_type": "execute_result"
    }
   ],
   "source": [
    "True*True"
   ]
  },
  {
   "cell_type": "code",
   "execution_count": 23,
   "id": "8d241782-41ae-4ef8-af6b-2a1ef6420d0a",
   "metadata": {},
   "outputs": [
    {
     "data": {
      "text/plain": [
       "0"
      ]
     },
     "execution_count": 23,
     "metadata": {},
     "output_type": "execute_result"
    }
   ],
   "source": [
    "True*False"
   ]
  },
  {
   "cell_type": "code",
   "execution_count": 24,
   "id": "1247bfb3-95f8-46c0-8339-22a38619eba5",
   "metadata": {},
   "outputs": [
    {
     "ename": "ZeroDivisionError",
     "evalue": "division by zero",
     "output_type": "error",
     "traceback": [
      "\u001b[0;31m---------------------------------------------------------------------------\u001b[0m",
      "\u001b[0;31mZeroDivisionError\u001b[0m                         Traceback (most recent call last)",
      "Cell \u001b[0;32mIn[24], line 1\u001b[0m\n\u001b[0;32m----> 1\u001b[0m \u001b[38;5;28;43;01mTrue\u001b[39;49;00m\u001b[38;5;241;43m/\u001b[39;49m\u001b[38;5;28;43;01mFalse\u001b[39;49;00m\n",
      "\u001b[0;31mZeroDivisionError\u001b[0m: division by zero"
     ]
    }
   ],
   "source": [
    "True/False"
   ]
  },
  {
   "cell_type": "code",
   "execution_count": 25,
   "id": "67576e65-7413-40a9-a9f3-50e945ca09a7",
   "metadata": {},
   "outputs": [
    {
     "data": {
      "text/plain": [
       "0.0"
      ]
     },
     "execution_count": 25,
     "metadata": {},
     "output_type": "execute_result"
    }
   ],
   "source": [
    "False/True"
   ]
  },
  {
   "cell_type": "code",
   "execution_count": 26,
   "id": "3f9b6d1a-ba05-431a-81c6-b2b190b3d6b9",
   "metadata": {},
   "outputs": [],
   "source": [
    "o = 5+8j"
   ]
  },
  {
   "cell_type": "code",
   "execution_count": 27,
   "id": "e4070e0f-5d6f-430b-a6ee-b984bd8cf839",
   "metadata": {},
   "outputs": [
    {
     "data": {
      "text/plain": [
       "complex"
      ]
     },
     "execution_count": 27,
     "metadata": {},
     "output_type": "execute_result"
    }
   ],
   "source": [
    "type(o)"
   ]
  },
  {
   "cell_type": "code",
   "execution_count": 28,
   "id": "da909085-a88d-4a8d-a1c6-85dd839b51f7",
   "metadata": {},
   "outputs": [
    {
     "data": {
      "text/plain": [
       "5.0"
      ]
     },
     "execution_count": 28,
     "metadata": {},
     "output_type": "execute_result"
    }
   ],
   "source": [
    "o.real"
   ]
  },
  {
   "cell_type": "code",
   "execution_count": 29,
   "id": "e32743b8-f13f-4c74-bd7f-4651e9e983d0",
   "metadata": {},
   "outputs": [
    {
     "ename": "AttributeError",
     "evalue": "'complex' object has no attribute 'complex'",
     "output_type": "error",
     "traceback": [
      "\u001b[0;31m---------------------------------------------------------------------------\u001b[0m",
      "\u001b[0;31mAttributeError\u001b[0m                            Traceback (most recent call last)",
      "Cell \u001b[0;32mIn[29], line 1\u001b[0m\n\u001b[0;32m----> 1\u001b[0m \u001b[43mo\u001b[49m\u001b[38;5;241;43m.\u001b[39;49m\u001b[43mcomplex\u001b[49m\n",
      "\u001b[0;31mAttributeError\u001b[0m: 'complex' object has no attribute 'complex'"
     ]
    }
   ],
   "source": [
    "o.complex"
   ]
  },
  {
   "cell_type": "code",
   "execution_count": 30,
   "id": "3c046804-ecb3-490d-994f-5edad48f5851",
   "metadata": {},
   "outputs": [
    {
     "data": {
      "text/plain": [
       "8.0"
      ]
     },
     "execution_count": 30,
     "metadata": {},
     "output_type": "execute_result"
    }
   ],
   "source": [
    "o.imag"
   ]
  },
  {
   "cell_type": "code",
   "execution_count": 31,
   "id": "e9bdf8ca-8020-4a51-bffa-406f6e7e2c11",
   "metadata": {},
   "outputs": [
    {
     "data": {
      "text/plain": [
       "10"
      ]
     },
     "execution_count": 31,
     "metadata": {},
     "output_type": "execute_result"
    }
   ],
   "source": [
    "a.real"
   ]
  },
  {
   "cell_type": "code",
   "execution_count": 32,
   "id": "18e24c9d-78e9-4de6-973a-41f09892884e",
   "metadata": {},
   "outputs": [],
   "source": [
    "ankur = 9+9j"
   ]
  },
  {
   "cell_type": "code",
   "execution_count": 33,
   "id": "cb36d43c-1318-4436-aaaa-292bdd42ade9",
   "metadata": {},
   "outputs": [
    {
     "data": {
      "text/plain": [
       "9.0"
      ]
     },
     "execution_count": 33,
     "metadata": {},
     "output_type": "execute_result"
    }
   ],
   "source": [
    "ankur.real"
   ]
  },
  {
   "cell_type": "code",
   "execution_count": 34,
   "id": "3dedb0c7-3212-40aa-8fd5-ed5530d16ad3",
   "metadata": {},
   "outputs": [
    {
     "data": {
      "text/plain": [
       "9.0"
      ]
     },
     "execution_count": 34,
     "metadata": {},
     "output_type": "execute_result"
    }
   ],
   "source": [
    "ankur.imag"
   ]
  },
  {
   "cell_type": "code",
   "execution_count": 35,
   "id": "7de5fa0d-df4d-4c01-8c1d-50f7ec44069b",
   "metadata": {},
   "outputs": [
    {
     "data": {
      "text/plain": [
       "(9+9j)"
      ]
     },
     "execution_count": 35,
     "metadata": {},
     "output_type": "execute_result"
    }
   ],
   "source": [
    "ankur"
   ]
  },
  {
   "cell_type": "code",
   "execution_count": 36,
   "id": "df692b3b-16bb-4749-bb9f-fbb51087e783",
   "metadata": {},
   "outputs": [
    {
     "name": "stdout",
     "output_type": "stream",
     "text": [
      "python basic\n"
     ]
    }
   ],
   "source": [
    "print(\"python basic\")"
   ]
  },
  {
   "cell_type": "code",
   "execution_count": 37,
   "id": "71dd99b9-6345-4630-a36b-ea0d2d777f6d",
   "metadata": {},
   "outputs": [
    {
     "name": "stdout",
     "output_type": "stream",
     "text": [
      "10\n"
     ]
    }
   ],
   "source": [
    "print(a)"
   ]
  },
  {
   "cell_type": "code",
   "execution_count": 38,
   "id": "9a8dc0af-0bd8-4c4f-855a-18c7423c2d0f",
   "metadata": {},
   "outputs": [
    {
     "name": "stdout",
     "output_type": "stream",
     "text": [
      "(9+9j)\n"
     ]
    }
   ],
   "source": [
    "print(ankur)"
   ]
  },
  {
   "cell_type": "code",
   "execution_count": 39,
   "id": "4884da48-325f-4724-a8e6-5192dcecc6d7",
   "metadata": {},
   "outputs": [],
   "source": [
    "s = \"pwskills\""
   ]
  },
  {
   "cell_type": "code",
   "execution_count": 40,
   "id": "52bd0547-059a-4d0d-b4f0-8903fb469eab",
   "metadata": {},
   "outputs": [
    {
     "data": {
      "text/plain": [
       "str"
      ]
     },
     "execution_count": 40,
     "metadata": {},
     "output_type": "execute_result"
    }
   ],
   "source": [
    "type(s)"
   ]
  },
  {
   "cell_type": "code",
   "execution_count": 41,
   "id": "7dd963cf-61a2-4d80-bfa3-6ed06d82f65a",
   "metadata": {},
   "outputs": [
    {
     "data": {
      "text/plain": [
       "'p'"
      ]
     },
     "execution_count": 41,
     "metadata": {},
     "output_type": "execute_result"
    }
   ],
   "source": [
    "s[0]"
   ]
  },
  {
   "cell_type": "code",
   "execution_count": 42,
   "id": "7b6baf67-d30e-4772-84c9-96a7c4a8915b",
   "metadata": {},
   "outputs": [
    {
     "data": {
      "text/plain": [
       "'s'"
      ]
     },
     "execution_count": 42,
     "metadata": {},
     "output_type": "execute_result"
    }
   ],
   "source": [
    "s[2]"
   ]
  },
  {
   "cell_type": "code",
   "execution_count": 43,
   "id": "a3690864-9b87-4eb8-88d1-28c933580658",
   "metadata": {},
   "outputs": [
    {
     "data": {
      "text/plain": [
       "'i'"
      ]
     },
     "execution_count": 43,
     "metadata": {},
     "output_type": "execute_result"
    }
   ],
   "source": [
    "s[4]"
   ]
  },
  {
   "cell_type": "code",
   "execution_count": 44,
   "id": "82cb2b05-c23c-4469-8459-7749a7808e4d",
   "metadata": {},
   "outputs": [
    {
     "data": {
      "text/plain": [
       "'l'"
      ]
     },
     "execution_count": 44,
     "metadata": {},
     "output_type": "execute_result"
    }
   ],
   "source": [
    "s[6]"
   ]
  },
  {
   "cell_type": "code",
   "execution_count": 45,
   "id": "d13d67f0-98a9-4ebf-989d-015f72a5675a",
   "metadata": {},
   "outputs": [
    {
     "data": {
      "text/plain": [
       "'s'"
      ]
     },
     "execution_count": 45,
     "metadata": {},
     "output_type": "execute_result"
    }
   ],
   "source": [
    "s[-1]"
   ]
  },
  {
   "cell_type": "code",
   "execution_count": 46,
   "id": "29a29840-d01c-4e94-9ff4-53ef3739d316",
   "metadata": {},
   "outputs": [
    {
     "data": {
      "text/plain": [
       "'p'"
      ]
     },
     "execution_count": 46,
     "metadata": {},
     "output_type": "execute_result"
    }
   ],
   "source": [
    "s[-8]"
   ]
  },
  {
   "cell_type": "code",
   "execution_count": 47,
   "id": "6f769f9a-ab5a-4551-9336-8e293af0645e",
   "metadata": {},
   "outputs": [
    {
     "data": {
      "text/plain": [
       "'pws'"
      ]
     },
     "execution_count": 47,
     "metadata": {},
     "output_type": "execute_result"
    }
   ],
   "source": [
    "s[0:3]"
   ]
  },
  {
   "cell_type": "code",
   "execution_count": 48,
   "id": "c1208c79-afad-4abc-9c48-d8005a354654",
   "metadata": {},
   "outputs": [
    {
     "data": {
      "text/plain": [
       "'pw'"
      ]
     },
     "execution_count": 48,
     "metadata": {},
     "output_type": "execute_result"
    }
   ],
   "source": [
    "s[0:2]"
   ]
  },
  {
   "cell_type": "code",
   "execution_count": 49,
   "id": "f130b516-ab9f-42a0-ae77-91c44aa11ad4",
   "metadata": {},
   "outputs": [
    {
     "data": {
      "text/plain": [
       "'sk'"
      ]
     },
     "execution_count": 49,
     "metadata": {},
     "output_type": "execute_result"
    }
   ],
   "source": [
    "s[2:4]"
   ]
  },
  {
   "cell_type": "code",
   "execution_count": 50,
   "id": "cfc91202-c2c2-4014-a67d-0620cc4cb780",
   "metadata": {},
   "outputs": [
    {
     "data": {
      "text/plain": [
       "'pwskills'"
      ]
     },
     "execution_count": 50,
     "metadata": {},
     "output_type": "execute_result"
    }
   ],
   "source": [
    "s[0:8:1]"
   ]
  },
  {
   "cell_type": "code",
   "execution_count": 51,
   "id": "8331940a-8f21-4b91-ab21-af023e1ece97",
   "metadata": {},
   "outputs": [
    {
     "data": {
      "text/plain": [
       "'psil'"
      ]
     },
     "execution_count": 51,
     "metadata": {},
     "output_type": "execute_result"
    }
   ],
   "source": [
    "s[0:8:2]"
   ]
  },
  {
   "cell_type": "code",
   "execution_count": 52,
   "id": "73e2ee5f-67c8-44d0-be19-a6b2c62e645c",
   "metadata": {},
   "outputs": [
    {
     "data": {
      "text/plain": [
       "'psil'"
      ]
     },
     "execution_count": 52,
     "metadata": {},
     "output_type": "execute_result"
    }
   ],
   "source": [
    "s[: : 2]"
   ]
  },
  {
   "cell_type": "code",
   "execution_count": 53,
   "id": "0788937d-9cab-4b47-ad0b-53f3cb7970d0",
   "metadata": {},
   "outputs": [
    {
     "data": {
      "text/plain": [
       "'sil'"
      ]
     },
     "execution_count": 53,
     "metadata": {},
     "output_type": "execute_result"
    }
   ],
   "source": [
    "s[2: : 2]"
   ]
  },
  {
   "cell_type": "code",
   "execution_count": 54,
   "id": "37ada2b5-5d15-44b6-8b58-2fa78817470f",
   "metadata": {},
   "outputs": [
    {
     "data": {
      "text/plain": [
       "'sllikswp'"
      ]
     },
     "execution_count": 54,
     "metadata": {},
     "output_type": "execute_result"
    }
   ],
   "source": [
    "s[: : -1]"
   ]
  },
  {
   "cell_type": "code",
   "execution_count": 55,
   "id": "fd9a6f71-4626-4688-ad6e-a25c439a1d67",
   "metadata": {},
   "outputs": [
    {
     "data": {
      "text/plain": [
       "''"
      ]
     },
     "execution_count": 55,
     "metadata": {},
     "output_type": "execute_result"
    }
   ],
   "source": [
    "s[2:7:-1]"
   ]
  },
  {
   "cell_type": "code",
   "execution_count": 56,
   "id": "e0db88f0-947e-4362-a61a-5906d62814eb",
   "metadata": {},
   "outputs": [
    {
     "data": {
      "text/plain": [
       "'lliks'"
      ]
     },
     "execution_count": 56,
     "metadata": {},
     "output_type": "execute_result"
    }
   ],
   "source": [
    "s[-2:-7:-1]"
   ]
  },
  {
   "cell_type": "code",
   "execution_count": 57,
   "id": "ece28ec5-2751-41ba-905c-690d0b8eb2fc",
   "metadata": {},
   "outputs": [
    {
     "data": {
      "text/plain": [
       "''"
      ]
     },
     "execution_count": 57,
     "metadata": {},
     "output_type": "execute_result"
    }
   ],
   "source": [
    "s[8:0]"
   ]
  },
  {
   "cell_type": "code",
   "execution_count": 58,
   "id": "de806fd7-e55e-409b-9623-f55f49dafd8c",
   "metadata": {},
   "outputs": [
    {
     "data": {
      "text/plain": [
       "'sllikswp'"
      ]
     },
     "execution_count": 58,
     "metadata": {},
     "output_type": "execute_result"
    }
   ],
   "source": [
    "s[8: : -1]"
   ]
  },
  {
   "cell_type": "code",
   "execution_count": 59,
   "id": "f6913560-08c5-4c3d-b09f-564c4265fdff",
   "metadata": {},
   "outputs": [
    {
     "data": {
      "text/plain": [
       "'slliksw'"
      ]
     },
     "execution_count": 59,
     "metadata": {},
     "output_type": "execute_result"
    }
   ],
   "source": [
    "s[8:0:-1]"
   ]
  },
  {
   "cell_type": "code",
   "execution_count": 60,
   "id": "d6e15e7f-5af8-4010-a38f-070e93a7cec3",
   "metadata": {},
   "outputs": [
    {
     "data": {
      "text/plain": [
       "'lliksw'"
      ]
     },
     "execution_count": 60,
     "metadata": {},
     "output_type": "execute_result"
    }
   ],
   "source": [
    "s[-2:-8:-1]"
   ]
  },
  {
   "cell_type": "code",
   "execution_count": 61,
   "id": "bf75c4b8-32cb-4a91-8f4f-4194d47efb60",
   "metadata": {},
   "outputs": [
    {
     "data": {
      "text/plain": [
       "'sllikswp'"
      ]
     },
     "execution_count": 61,
     "metadata": {},
     "output_type": "execute_result"
    }
   ],
   "source": [
    "s[::-1]"
   ]
  },
  {
   "cell_type": "code",
   "execution_count": 62,
   "id": "e6033353-2141-449a-b07c-b7a167873fb0",
   "metadata": {},
   "outputs": [
    {
     "ename": "IndexError",
     "evalue": "string index out of range",
     "output_type": "error",
     "traceback": [
      "\u001b[0;31m---------------------------------------------------------------------------\u001b[0m",
      "\u001b[0;31mIndexError\u001b[0m                                Traceback (most recent call last)",
      "Cell \u001b[0;32mIn[62], line 1\u001b[0m\n\u001b[0;32m----> 1\u001b[0m \u001b[43ms\u001b[49m\u001b[43m[\u001b[49m\u001b[38;5;241;43m20\u001b[39;49m\u001b[43m]\u001b[49m\n",
      "\u001b[0;31mIndexError\u001b[0m: string index out of range"
     ]
    }
   ],
   "source": [
    "s[20]"
   ]
  },
  {
   "cell_type": "code",
   "execution_count": 63,
   "id": "552b31cd-1b3e-4d23-949e-991c6deb49a2",
   "metadata": {},
   "outputs": [
    {
     "ename": "IndexError",
     "evalue": "string index out of range",
     "output_type": "error",
     "traceback": [
      "\u001b[0;31m---------------------------------------------------------------------------\u001b[0m",
      "\u001b[0;31mIndexError\u001b[0m                                Traceback (most recent call last)",
      "Cell \u001b[0;32mIn[63], line 1\u001b[0m\n\u001b[0;32m----> 1\u001b[0m \u001b[43ms\u001b[49m\u001b[43m[\u001b[49m\u001b[38;5;241;43m90\u001b[39;49m\u001b[43m]\u001b[49m\n",
      "\u001b[0;31mIndexError\u001b[0m: string index out of range"
     ]
    }
   ],
   "source": [
    "s[90]"
   ]
  },
  {
   "cell_type": "code",
   "execution_count": 64,
   "id": "e2d64b83-2eef-4660-a508-f8bdb8396969",
   "metadata": {},
   "outputs": [
    {
     "data": {
      "text/plain": [
       "''"
      ]
     },
     "execution_count": 64,
     "metadata": {},
     "output_type": "execute_result"
    }
   ],
   "source": [
    "s[:-90:]"
   ]
  },
  {
   "cell_type": "code",
   "execution_count": 65,
   "id": "a23f8681-e20f-4a50-8367-aa46344935f1",
   "metadata": {},
   "outputs": [
    {
     "data": {
      "text/plain": [
       "'sllikswp'"
      ]
     },
     "execution_count": 65,
     "metadata": {},
     "output_type": "execute_result"
    }
   ],
   "source": [
    "s[:-90:-1]"
   ]
  },
  {
   "cell_type": "code",
   "execution_count": 66,
   "id": "ac6ac9a1-3486-4e2d-8cb2-071e56e5845e",
   "metadata": {},
   "outputs": [],
   "source": [
    "c=200"
   ]
  },
  {
   "cell_type": "code",
   "execution_count": 67,
   "id": "c78a0553-9cab-459a-8763-69239a93dfd7",
   "metadata": {},
   "outputs": [
    {
     "ename": "TypeError",
     "evalue": "'int' object is not subscriptable",
     "output_type": "error",
     "traceback": [
      "\u001b[0;31m---------------------------------------------------------------------------\u001b[0m",
      "\u001b[0;31mTypeError\u001b[0m                                 Traceback (most recent call last)",
      "Cell \u001b[0;32mIn[67], line 1\u001b[0m\n\u001b[0;32m----> 1\u001b[0m \u001b[43mc\u001b[49m\u001b[43m[\u001b[49m\u001b[38;5;241;43m0\u001b[39;49m\u001b[43m]\u001b[49m\n",
      "\u001b[0;31mTypeError\u001b[0m: 'int' object is not subscriptable"
     ]
    }
   ],
   "source": [
    "c[0]"
   ]
  },
  {
   "cell_type": "code",
   "execution_count": 68,
   "id": "01cbebb0-e42f-4891-b4f0-503bc9e8f6e9",
   "metadata": {},
   "outputs": [],
   "source": [
    "s1=\"this is my string class\""
   ]
  },
  {
   "cell_type": "code",
   "execution_count": 69,
   "id": "0a304889-8eba-4147-be62-78b0f389ad80",
   "metadata": {},
   "outputs": [
    {
     "data": {
      "text/plain": [
       "23"
      ]
     },
     "execution_count": 69,
     "metadata": {},
     "output_type": "execute_result"
    }
   ],
   "source": [
    "len(s1)"
   ]
  },
  {
   "cell_type": "code",
   "execution_count": 70,
   "id": "c8598adb-8d22-401a-8251-5bc40513fd4c",
   "metadata": {},
   "outputs": [
    {
     "data": {
      "text/plain": [
       "3"
      ]
     },
     "execution_count": 70,
     "metadata": {},
     "output_type": "execute_result"
    }
   ],
   "source": [
    "s1.find('s')"
   ]
  },
  {
   "cell_type": "code",
   "execution_count": 71,
   "id": "6b31bf2f-b1f2-4ed3-935f-fc7f6be7775c",
   "metadata": {},
   "outputs": [
    {
     "data": {
      "text/plain": [
       "2"
      ]
     },
     "execution_count": 71,
     "metadata": {},
     "output_type": "execute_result"
    }
   ],
   "source": [
    "s1.find('i')"
   ]
  },
  {
   "cell_type": "code",
   "execution_count": 72,
   "id": "20c1faf5-7979-4572-9c25-f7cec5d660c8",
   "metadata": {},
   "outputs": [
    {
     "data": {
      "text/plain": [
       "4"
      ]
     },
     "execution_count": 72,
     "metadata": {},
     "output_type": "execute_result"
    }
   ],
   "source": [
    "s1.find(' ')"
   ]
  },
  {
   "cell_type": "code",
   "execution_count": 73,
   "id": "295a11bb-7634-45dc-8131-226a027b6ad8",
   "metadata": {},
   "outputs": [
    {
     "data": {
      "text/plain": [
       "2"
      ]
     },
     "execution_count": 73,
     "metadata": {},
     "output_type": "execute_result"
    }
   ],
   "source": [
    "s1.find('is')"
   ]
  },
  {
   "cell_type": "code",
   "execution_count": 74,
   "id": "48c13be2-2c5e-45a8-81de-33f648ad50f7",
   "metadata": {},
   "outputs": [
    {
     "data": {
      "text/plain": [
       "8"
      ]
     },
     "execution_count": 74,
     "metadata": {},
     "output_type": "execute_result"
    }
   ],
   "source": [
    "s1.find('my')"
   ]
  },
  {
   "cell_type": "code",
   "execution_count": 75,
   "id": "ed87c2c0-9647-4fb4-a390-7921fb5367cb",
   "metadata": {},
   "outputs": [
    {
     "data": {
      "text/plain": [
       "-1"
      ]
     },
     "execution_count": 75,
     "metadata": {},
     "output_type": "execute_result"
    }
   ],
   "source": [
    "s1.find('S')"
   ]
  },
  {
   "cell_type": "code",
   "execution_count": 76,
   "id": "6b55fad7-6045-4289-ae5c-7a824b735483",
   "metadata": {},
   "outputs": [
    {
     "data": {
      "text/plain": [
       "5"
      ]
     },
     "execution_count": 76,
     "metadata": {},
     "output_type": "execute_result"
    }
   ],
   "source": [
    "s1.count('s')"
   ]
  },
  {
   "cell_type": "code",
   "execution_count": 77,
   "id": "6fb40b3d-576a-4f1c-af3b-e96be4ed2c47",
   "metadata": {},
   "outputs": [
    {
     "data": {
      "text/plain": [
       "2"
      ]
     },
     "execution_count": 77,
     "metadata": {},
     "output_type": "execute_result"
    }
   ],
   "source": [
    "s1.count('is')"
   ]
  },
  {
   "cell_type": "code",
   "execution_count": 78,
   "id": "c08523ab-8f9b-4ca8-9b40-ef64b7670214",
   "metadata": {},
   "outputs": [
    {
     "data": {
      "text/plain": [
       "0"
      ]
     },
     "execution_count": 78,
     "metadata": {},
     "output_type": "execute_result"
    }
   ],
   "source": [
    "s1.count('z')"
   ]
  },
  {
   "cell_type": "code",
   "execution_count": 79,
   "id": "94db5a60-dc44-4011-843d-17b4e0f7cc63",
   "metadata": {},
   "outputs": [
    {
     "data": {
      "text/plain": [
       "'this is my string class'"
      ]
     },
     "execution_count": 79,
     "metadata": {},
     "output_type": "execute_result"
    }
   ],
   "source": [
    "s1"
   ]
  },
  {
   "cell_type": "code",
   "execution_count": 80,
   "id": "fbb35235-3931-42d1-b717-61993fe021e2",
   "metadata": {},
   "outputs": [
    {
     "data": {
      "text/plain": [
       "'THIS IS MY STRING CLASS'"
      ]
     },
     "execution_count": 80,
     "metadata": {},
     "output_type": "execute_result"
    }
   ],
   "source": [
    "s1.upper()"
   ]
  },
  {
   "cell_type": "code",
   "execution_count": 81,
   "id": "b80fd29a-6355-4e56-9f61-276133e0c49e",
   "metadata": {},
   "outputs": [],
   "source": [
    "s2 = 'THIS IS MY STRING CLASS'"
   ]
  },
  {
   "cell_type": "code",
   "execution_count": 82,
   "id": "1f62ba88-b05e-48ed-9ff6-0bdbac399c53",
   "metadata": {},
   "outputs": [
    {
     "data": {
      "text/plain": [
       "'this is my string class'"
      ]
     },
     "execution_count": 82,
     "metadata": {},
     "output_type": "execute_result"
    }
   ],
   "source": [
    "s2.lower()"
   ]
  },
  {
   "cell_type": "code",
   "execution_count": 83,
   "id": "566e0047-0182-402b-8f94-671e75b333e4",
   "metadata": {},
   "outputs": [
    {
     "data": {
      "text/plain": [
       "'this is my string class'"
      ]
     },
     "execution_count": 83,
     "metadata": {},
     "output_type": "execute_result"
    }
   ],
   "source": [
    "s1"
   ]
  },
  {
   "cell_type": "code",
   "execution_count": 84,
   "id": "1a77b486-611d-4f5a-9ebd-915767b0ddf3",
   "metadata": {},
   "outputs": [
    {
     "data": {
      "text/plain": [
       "'This Is My String Class'"
      ]
     },
     "execution_count": 84,
     "metadata": {},
     "output_type": "execute_result"
    }
   ],
   "source": [
    "s1.title()"
   ]
  },
  {
   "cell_type": "code",
   "execution_count": 85,
   "id": "2338003f-a578-4ed7-a08b-939804f069aa",
   "metadata": {},
   "outputs": [
    {
     "ename": "AttributeError",
     "evalue": "'str' object has no attribute 'capatalize'",
     "output_type": "error",
     "traceback": [
      "\u001b[0;31m---------------------------------------------------------------------------\u001b[0m",
      "\u001b[0;31mAttributeError\u001b[0m                            Traceback (most recent call last)",
      "Cell \u001b[0;32mIn[85], line 1\u001b[0m\n\u001b[0;32m----> 1\u001b[0m \u001b[43ms1\u001b[49m\u001b[38;5;241;43m.\u001b[39;49m\u001b[43mcapatalize\u001b[49m()\n",
      "\u001b[0;31mAttributeError\u001b[0m: 'str' object has no attribute 'capatalize'"
     ]
    }
   ],
   "source": [
    "s1.capatalize()"
   ]
  },
  {
   "cell_type": "code",
   "execution_count": 86,
   "id": "98742183-58fc-43c0-87ce-f05cbfd7d168",
   "metadata": {},
   "outputs": [
    {
     "data": {
      "text/plain": [
       "'This is my string class'"
      ]
     },
     "execution_count": 86,
     "metadata": {},
     "output_type": "execute_result"
    }
   ],
   "source": [
    "s1.capitalize()"
   ]
  },
  {
   "cell_type": "code",
   "execution_count": 87,
   "id": "e7eed643-48fa-4cba-aa78-ee850538fcbc",
   "metadata": {},
   "outputs": [
    {
     "data": {
      "text/plain": [
       "'pwskills'"
      ]
     },
     "execution_count": 87,
     "metadata": {},
     "output_type": "execute_result"
    }
   ],
   "source": [
    "s"
   ]
  },
  {
   "cell_type": "code",
   "execution_count": 88,
   "id": "9c604e77-ecc5-4d86-899a-220007153abb",
   "metadata": {},
   "outputs": [
    {
     "ename": "TypeError",
     "evalue": "can only concatenate str (not \"int\") to str",
     "output_type": "error",
     "traceback": [
      "\u001b[0;31m---------------------------------------------------------------------------\u001b[0m",
      "\u001b[0;31mTypeError\u001b[0m                                 Traceback (most recent call last)",
      "Cell \u001b[0;32mIn[88], line 1\u001b[0m\n\u001b[0;32m----> 1\u001b[0m \u001b[43ms\u001b[49m\u001b[38;5;241;43m+\u001b[39;49m\u001b[38;5;241;43m1\u001b[39;49m\n",
      "\u001b[0;31mTypeError\u001b[0m: can only concatenate str (not \"int\") to str"
     ]
    }
   ],
   "source": [
    "s+1"
   ]
  },
  {
   "cell_type": "code",
   "execution_count": 89,
   "id": "6f93e10d-715c-46b9-b3eb-d61a00a5398c",
   "metadata": {},
   "outputs": [
    {
     "data": {
      "text/plain": [
       "'pwskillsankur jha'"
      ]
     },
     "execution_count": 89,
     "metadata": {},
     "output_type": "execute_result"
    }
   ],
   "source": [
    "s + 'ankur jha'"
   ]
  },
  {
   "cell_type": "code",
   "execution_count": 90,
   "id": "11d63a48-9ed2-486e-80e7-8cace07076a1",
   "metadata": {},
   "outputs": [
    {
     "data": {
      "text/plain": [
       "'pwskills  ankur jha'"
      ]
     },
     "execution_count": 90,
     "metadata": {},
     "output_type": "execute_result"
    }
   ],
   "source": [
    "s + '  ankur jha'"
   ]
  },
  {
   "cell_type": "code",
   "execution_count": 91,
   "id": "ccda9d3f-b20b-471a-bef6-a192ebcf0e0a",
   "metadata": {},
   "outputs": [
    {
     "data": {
      "text/plain": [
       "'pwskillspwskillspwskills'"
      ]
     },
     "execution_count": 91,
     "metadata": {},
     "output_type": "execute_result"
    }
   ],
   "source": [
    "s*3"
   ]
  },
  {
   "cell_type": "code",
   "execution_count": 92,
   "id": "3427b4de-8bde-4dee-a8e1-6f669d781f44",
   "metadata": {},
   "outputs": [
    {
     "ename": "TypeError",
     "evalue": "unsupported operand type(s) for /: 'str' and 'int'",
     "output_type": "error",
     "traceback": [
      "\u001b[0;31m---------------------------------------------------------------------------\u001b[0m",
      "\u001b[0;31mTypeError\u001b[0m                                 Traceback (most recent call last)",
      "Cell \u001b[0;32mIn[92], line 1\u001b[0m\n\u001b[0;32m----> 1\u001b[0m \u001b[43ms\u001b[49m\u001b[38;5;241;43m/\u001b[39;49m\u001b[38;5;241;43m4\u001b[39;49m\n",
      "\u001b[0;31mTypeError\u001b[0m: unsupported operand type(s) for /: 'str' and 'int'"
     ]
    }
   ],
   "source": [
    "s/4"
   ]
  },
  {
   "cell_type": "code",
   "execution_count": 93,
   "id": "9d5a6bfa-3f9b-4d05-8903-c2af31a32c77",
   "metadata": {},
   "outputs": [
    {
     "data": {
      "text/plain": [
       "' this is the best place to visit'"
      ]
     },
     "execution_count": 93,
     "metadata": {},
     "output_type": "execute_result"
    }
   ],
   "source": [
    "' this is the best place to visit'"
   ]
  },
  {
   "cell_type": "code",
   "execution_count": 94,
   "id": "a3bc1999-db0b-413f-a3b7-d1303235022d",
   "metadata": {},
   "outputs": [
    {
     "ename": "SyntaxError",
     "evalue": "unterminated string literal (detected at line 1) (1403154283.py, line 1)",
     "output_type": "error",
     "traceback": [
      "\u001b[0;36m  Cell \u001b[0;32mIn[94], line 1\u001b[0;36m\u001b[0m\n\u001b[0;31m    'don't do this '\u001b[0m\n\u001b[0m                   ^\u001b[0m\n\u001b[0;31mSyntaxError\u001b[0m\u001b[0;31m:\u001b[0m unterminated string literal (detected at line 1)\n"
     ]
    }
   ],
   "source": [
    "'don't do this '"
   ]
  },
  {
   "cell_type": "code",
   "execution_count": 95,
   "id": "f74e1009-3f96-49f2-b920-360e0a79f729",
   "metadata": {},
   "outputs": [
    {
     "data": {
      "text/plain": [
       "\"don't do this \""
      ]
     },
     "execution_count": 95,
     "metadata": {},
     "output_type": "execute_result"
    }
   ],
   "source": [
    "\"don't do this \""
   ]
  },
  {
   "cell_type": "code",
   "execution_count": 96,
   "id": "4dafe148-d32d-482b-a891-d494a2235395",
   "metadata": {},
   "outputs": [
    {
     "ename": "SyntaxError",
     "evalue": "invalid syntax (206367729.py, line 1)",
     "output_type": "error",
     "traceback": [
      "\u001b[0;36m  Cell \u001b[0;32mIn[96], line 1\u001b[0;36m\u001b[0m\n\u001b[0;31m    do not do this\u001b[0m\n\u001b[0m           ^\u001b[0m\n\u001b[0;31mSyntaxError\u001b[0m\u001b[0;31m:\u001b[0m invalid syntax\n"
     ]
    }
   ],
   "source": [
    "do not do this"
   ]
  },
  {
   "cell_type": "code",
   "execution_count": 97,
   "id": "ba14e331-5d42-4776-875a-c50822b50fba",
   "metadata": {},
   "outputs": [],
   "source": [
    "# do not do this\n",
    "# this is not correct"
   ]
  },
  {
   "cell_type": "code",
   "execution_count": 99,
   "id": "4bcf81af-3097-4bf5-96e5-0bde7a32fa06",
   "metadata": {},
   "outputs": [],
   "source": [
    "s3 = \"\"\"do not do this\n",
    "this is not correct\"\"\""
   ]
  },
  {
   "cell_type": "code",
   "execution_count": 100,
   "id": "183cbec7-912f-4d8a-86f3-ac51baf22848",
   "metadata": {},
   "outputs": [
    {
     "data": {
      "text/plain": [
       "'do not do this\\nthis is not correct'"
      ]
     },
     "execution_count": 100,
     "metadata": {},
     "output_type": "execute_result"
    }
   ],
   "source": [
    "s3"
   ]
  },
  {
   "cell_type": "code",
   "execution_count": null,
   "id": "5df918d6-a6b2-4436-aa51-efc7fc19f358",
   "metadata": {},
   "outputs": [],
   "source": []
  }
 ],
 "metadata": {
  "kernelspec": {
   "display_name": "Python 3 (ipykernel)",
   "language": "python",
   "name": "python3"
  },
  "language_info": {
   "codemirror_mode": {
    "name": "ipython",
    "version": 3
   },
   "file_extension": ".py",
   "mimetype": "text/x-python",
   "name": "python",
   "nbconvert_exporter": "python",
   "pygments_lexer": "ipython3",
   "version": "3.10.8"
  }
 },
 "nbformat": 4,
 "nbformat_minor": 5
}
